{
 "cells": [
  {
   "cell_type": "markdown",
   "id": "051b4d78",
   "metadata": {},
   "source": [
    "# ROCK PAPER SCISSOR GAME "
   ]
  },
  {
   "cell_type": "code",
   "execution_count": null,
   "id": "d391b03c",
   "metadata": {},
   "outputs": [],
   "source": [
    "#Winning Rules as follows:\n",
    "\n",
    "#Rock vs paper-> paper wins\n",
    "#Rock vs scissor-> Rock wins\n",
    "#paper vs scissor-> scissor wins."
   ]
  },
  {
   "cell_type": "code",
   "execution_count": 6,
   "id": "fe3fde92",
   "metadata": {},
   "outputs": [],
   "source": [
    "import random #import random library"
   ]
  },
  {
   "cell_type": "code",
   "execution_count": 7,
   "id": "13897ab0",
   "metadata": {},
   "outputs": [],
   "source": [
    "options = [\"Rock\", \"Paper\", \"Scissors\"] #define options of rock paper and scissors"
   ]
  },
  {
   "cell_type": "code",
   "execution_count": 8,
   "id": "e1c9681f",
   "metadata": {},
   "outputs": [
    {
     "name": "stdout",
     "output_type": "stream",
     "text": [
      "Please Choose Rock, Paper, or Scissors: Rock\n"
     ]
    }
   ],
   "source": [
    "user_choice = input(\"Please Choose Rock, Paper, or Scissors: \") #define user input \n",
    "\n",
    "computer_choice = random.choice(options) #define machine input"
   ]
  },
  {
   "cell_type": "code",
   "execution_count": 9,
   "id": "d37d4329",
   "metadata": {},
   "outputs": [
    {
     "name": "stdout",
     "output_type": "stream",
     "text": [
      "Your choice  Rock\n",
      "Computer choice:  Scissors\n"
     ]
    }
   ],
   "source": [
    "print(\"Your choice \", user_choice)\n",
    "\n",
    "print(\"Computer choice: \", computer_choice)"
   ]
  },
  {
   "cell_type": "code",
   "execution_count": 10,
   "id": "5274fe09",
   "metadata": {},
   "outputs": [
    {
     "name": "stdout",
     "output_type": "stream",
     "text": [
      "Great You Betrayed Machine!\n"
     ]
    }
   ],
   "source": [
    "if user_choice == computer_choice:\n",
    "\n",
    "    print(\"It's a tie!\")\n",
    "\n",
    "elif user_choice == \"Rock\" and computer_choice == \"Scissors\":\n",
    "\n",
    "    print(\"Great... You Betrayed Machine!\")\n",
    "\n",
    "elif user_choice == \"Paper\" and computer_choice == \"Rock\":\n",
    "\n",
    "    print(\"WELL DONE.... You Champ!\")\n",
    "\n",
    "elif user_choice == \"Scissors\" and computer_choice == \"Paper\":\n",
    "\n",
    "    print(\"Incedible You Rocks..!\")\n",
    "\n",
    "else:\n",
    "\n",
    "    print(\"Oopsss...Machine Defeat you!\")\n",
    "\n",
    "\n"
   ]
  }
 ],
 "metadata": {
  "kernelspec": {
   "display_name": "Python 3 (ipykernel)",
   "language": "python",
   "name": "python3"
  },
  "language_info": {
   "codemirror_mode": {
    "name": "ipython",
    "version": 3
   },
   "file_extension": ".py",
   "mimetype": "text/x-python",
   "name": "python",
   "nbconvert_exporter": "python",
   "pygments_lexer": "ipython3",
   "version": "3.11.3"
  }
 },
 "nbformat": 4,
 "nbformat_minor": 5
}
