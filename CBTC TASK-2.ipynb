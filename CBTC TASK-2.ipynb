{
 "cells": [
  {
   "cell_type": "markdown",
   "id": "e876c206",
   "metadata": {},
   "source": [
    "# CREATING PAYMENT RECEIPT"
   ]
  },
  {
   "cell_type": "code",
   "execution_count": null,
   "id": "b67724cc",
   "metadata": {},
   "outputs": [],
   "source": [
    "#first we need to download one library call reportlab to implement this task.\n",
    "#This is a software library that lets you directly create documents \n",
    "#in Adobe's Portable Document Format (PDF) using the Python programming language. \n",
    "#It also creates charts and data graphics in various bitmap and vector formats as well as PDF.\n",
    "#it also helpfull to add colors,styles,table etc. "
   ]
  },
  {
   "cell_type": "code",
   "execution_count": 27,
   "id": "7509f6ff",
   "metadata": {},
   "outputs": [
    {
     "name": "stdout",
     "output_type": "stream",
     "text": [
      "Requirement already satisfied: reportlab in c:\\users\\heet\\anaconda3\\lib\\site-packages (4.2.2)\n",
      "Requirement already satisfied: pillow>=9.0.0 in c:\\users\\heet\\anaconda3\\lib\\site-packages (from reportlab) (9.4.0)\n",
      "Requirement already satisfied: chardet in c:\\users\\heet\\anaconda3\\lib\\site-packages (from reportlab) (4.0.0)\n",
      "Note: you may need to restart the kernel to use updated packages.\n"
     ]
    }
   ],
   "source": [
    "pip install reportlab"
   ]
  },
  {
   "cell_type": "code",
   "execution_count": 29,
   "id": "3d153a31",
   "metadata": {},
   "outputs": [],
   "source": [
    "#import necessary things from this library\n",
    "from reportlab.platypus import SimpleDocTemplate, Table, Paragraph, TableStyle\n",
    "from reportlab.lib import colors\n",
    "from reportlab.lib.pagesizes import A4\n",
    "from reportlab.lib.styles import getSampleStyleSheet"
   ]
  },
  {
   "cell_type": "code",
   "execution_count": 30,
   "id": "e3b29417",
   "metadata": {},
   "outputs": [],
   "source": [
    "#add data which we want to use for payment receipt\n",
    "DATA = [\n",
    "    [ \"Date\" , \"Product name\", \"Measurement\", \"Price (Rs.)\" ],\n",
    "    [\n",
    "        \"16/11/2023\",\n",
    "        \"bed\",\n",
    "        \"10*10 \",\n",
    "        \"20000.00/-\",\n",
    "    ],\n",
    "    [ \"16/11/2023\", \"cupboard\", \"11*11\", \"9,999.00/-\"],\n",
    "    [ \"16/11/2023\", \"window\", \"5*5\", \"5000.00/-\"],\n",
    "    [ \"16/11/2023\", \"TV UNIT\", \"8*7\", \"7000.00/-\"],\n",
    "    [ \"Sub Total\", \"\", \"\", \"41999.00/-\"],\n",
    "    [ \"Discount\", \"\", \"\", \"-1999.00/-\"],\n",
    "    [ \"Total\", \"\", \"\", \"40000.00/-\"],\n",
    "]\n"
   ]
  },
  {
   "cell_type": "code",
   "execution_count": 31,
   "id": "fda568a2",
   "metadata": {},
   "outputs": [],
   "source": [
    "#define pdf function and styles\n",
    "pdf = SimpleDocTemplate( \"receipt.pdf\" , pagesize = A4 )\n",
    "styles = getSampleStyleSheet()"
   ]
  },
  {
   "cell_type": "code",
   "execution_count": 32,
   "id": "82b3e01d",
   "metadata": {},
   "outputs": [],
   "source": [
    "title_style = styles[ \"Heading1\" ]\n",
    "# 0: left, 1: center, 2: right\n",
    "title_style.alignment = 1"
   ]
  },
  {
   "cell_type": "code",
   "execution_count": 33,
   "id": "4ec209e3",
   "metadata": {},
   "outputs": [],
   "source": [
    "title = Paragraph( \"BALAJI FURNITURE MART\" , title_style ) #give the title of receipt"
   ]
  },
  {
   "cell_type": "code",
   "execution_count": 34,
   "id": "12012eac",
   "metadata": {},
   "outputs": [],
   "source": [
    "#style to table\n",
    "style = TableStyle(\n",
    "    [\n",
    "        ( \"BOX\" , ( 0, 0 ), ( -1, -1 ), 1 , colors.black ),\n",
    "        ( \"GRID\" , ( 0, 0 ), ( 4 , 4 ), 1 , colors.black ),\n",
    "        ( \"BACKGROUND\" , ( 0, 0 ), ( 3, 0 ), colors.gray ),\n",
    "        ( \"TEXTCOLOR\" , ( 0, 0 ), ( -1, 0 ), colors.whitesmoke ),\n",
    "        ( \"ALIGN\" , ( 0, 0 ), ( -1, -1 ), \"CENTER\" ),\n",
    "        ( \"BACKGROUND\" , ( 0 , 1 ) , ( -1 , -1 ), colors.beige ),\n",
    "    ]\n",
    ")"
   ]
  },
  {
   "cell_type": "code",
   "execution_count": 35,
   "id": "ab0453d3",
   "metadata": {},
   "outputs": [],
   "source": [
    "table = Table( DATA , style = style )"
   ]
  },
  {
   "cell_type": "code",
   "execution_count": 36,
   "id": "29047493",
   "metadata": {},
   "outputs": [],
   "source": [
    "pdf.build([ title , table ]) #build a payment receipt"
   ]
  },
  {
   "cell_type": "code",
   "execution_count": null,
   "id": "72592789",
   "metadata": {},
   "outputs": [],
   "source": []
  }
 ],
 "metadata": {
  "kernelspec": {
   "display_name": "Python 3 (ipykernel)",
   "language": "python",
   "name": "python3"
  },
  "language_info": {
   "codemirror_mode": {
    "name": "ipython",
    "version": 3
   },
   "file_extension": ".py",
   "mimetype": "text/x-python",
   "name": "python",
   "nbconvert_exporter": "python",
   "pygments_lexer": "ipython3",
   "version": "3.11.3"
  }
 },
 "nbformat": 4,
 "nbformat_minor": 5
}
