{
 "cells": [
  {
   "cell_type": "markdown",
   "id": "a3bd19e5",
   "metadata": {},
   "source": [
    "# MASTERMIND GAME \n"
   ]
  },
  {
   "cell_type": "code",
   "execution_count": 6,
   "id": "58defdeb",
   "metadata": {},
   "outputs": [],
   "source": [
    "import random     #import random library"
   ]
  },
  {
   "cell_type": "code",
   "execution_count": 11,
   "id": "7200b813",
   "metadata": {},
   "outputs": [
    {
     "name": "stdout",
     "output_type": "stream",
     "text": [
      "2901\n"
     ]
    }
   ],
   "source": [
    "num = random.randrange(1000,10000)   #set range of numbers\n",
    "print(num) #computer randomly generate the number"
   ]
  },
  {
   "cell_type": "code",
   "execution_count": 8,
   "id": "bbba7af6",
   "metadata": {},
   "outputs": [],
   "source": [
    "chances = 5     #number of chances for user \n",
    "tries = 0"
   ]
  },
  {
   "cell_type": "code",
   "execution_count": 12,
   "id": "8132e388",
   "metadata": {},
   "outputs": [
    {
     "name": "stdout",
     "output_type": "stream",
     "text": [
      "guess a 4 digit number, you have 5 chances left: 2912\n"
     ]
    }
   ],
   "source": [
    "guess = int(input(f'guess a 4 digit number, you have {chances} chances left: ')) #introduce the guess function whereas f is for formating"
   ]
  },
  {
   "cell_type": "code",
   "execution_count": 13,
   "id": "e892d6a1",
   "metadata": {},
   "outputs": [
    {
     "name": "stdout",
     "output_type": "stream",
     "text": [
      "not the right guess,but you guessed 2 numbers right\n",
      "current status is:\n",
      "2 \n",
      "\n",
      "\n",
      "\n",
      "guess a 4 digit number, you have 4 chances left: 2921\n",
      "9 \n",
      "\n",
      "\n",
      "\n",
      "guess a 4 digit number, you have 4 chances left: 1902\n",
      "X \n",
      "\n",
      "\n",
      "\n",
      "guess a 4 digit number, you have 4 chances left: 2902\n",
      "X \n",
      "\n",
      "\n",
      "\n",
      "guess a 4 digit number, you have 4 chances left: 2901\n",
      "incredible you won in 2 guesses,now you are a mastermind\n"
     ]
    }
   ],
   "source": [
    "if guess == num:\n",
    "    print ('fabulous you won , now you are a mastermind')\n",
    "else:\n",
    "    tries = 0\n",
    "    while guess != num and chances:\n",
    "        tries   +=1\n",
    "        chances -=1\n",
    "        rightdigits = 0\n",
    "        guess = str(guess)\n",
    "        num = str(num)\n",
    "        correct = ['X']*4\n",
    "        for i in range(0,4):\n",
    "            if guess[i] == num[i]:\n",
    "                rightdigits += 1\n",
    "                correct[i]=num[i]\n",
    "        if rightdigits < 4 and rightdigits > 0 and chances:\n",
    "            print('not the right guess,but you guessed',rightdigits,'numbers right')\n",
    "            print('current status is:')\n",
    "            for char in correct:\n",
    "               print(char, end=' ') #X567\n",
    "               print('\\n')\n",
    "               print('\\n')\n",
    "               guess = int(input(f'guess a 4 digit number, you have {chances} chances left: '))\n",
    "        elif rightdigits == 0 and chances: \n",
    "            print('none of the digits you guessed is right')\n",
    "            guess = int(input(f'guess a 4 digit number, you have {chances} chances left: '))\n",
    "if guess == num:\n",
    "    print('incredible you won in',tries, 'guesses,now you are a mastermind') \n",
    "if chances == 0:\n",
    "    print('Oops,you lost, as you ran out of chances')\n",
    "    print('Number is',num)    "
   ]
  },
  {
   "cell_type": "code",
   "execution_count": null,
   "id": "eca267ef",
   "metadata": {},
   "outputs": [],
   "source": []
  }
 ],
 "metadata": {
  "kernelspec": {
   "display_name": "Python 3 (ipykernel)",
   "language": "python",
   "name": "python3"
  },
  "language_info": {
   "codemirror_mode": {
    "name": "ipython",
    "version": 3
   },
   "file_extension": ".py",
   "mimetype": "text/x-python",
   "name": "python",
   "nbconvert_exporter": "python",
   "pygments_lexer": "ipython3",
   "version": "3.11.3"
  }
 },
 "nbformat": 4,
 "nbformat_minor": 5
}
