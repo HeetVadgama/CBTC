{
 "cells": [
  {
   "cell_type": "markdown",
   "id": "54e2c9ac",
   "metadata": {},
   "source": [
    "## RECORD YOUR VOICE"
   ]
  },
  {
   "cell_type": "code",
   "execution_count": 1,
   "id": "fea4b1fa",
   "metadata": {},
   "outputs": [],
   "source": [
    "#first we need to install wavio library for reading and writing WAV (Waveform Audio File Format) files.\n",
    "#It simplifies working with audio data in the WAV format by providing easy-to-use functions \n",
    "#for reading and writing audio files."
   ]
  },
  {
   "cell_type": "code",
   "execution_count": 7,
   "id": "c7103dbe",
   "metadata": {},
   "outputs": [
    {
     "name": "stdout",
     "output_type": "stream",
     "text": [
      "Requirement already satisfied: wavio in c:\\users\\heet\\anaconda3\\lib\\site-packages (0.0.9)Note: you may need to restart the kernel to use updated packages.\n",
      "\n",
      "Requirement already satisfied: numpy>=1.19.0 in c:\\users\\heet\\anaconda3\\lib\\site-packages (from wavio) (1.24.3)\n"
     ]
    }
   ],
   "source": [
    "pip install wavio"
   ]
  },
  {
   "cell_type": "code",
   "execution_count": null,
   "id": "73ff25d3",
   "metadata": {},
   "outputs": [],
   "source": [
    "#The sounddevice library in Python is a powerful and user-friendly \n",
    "#package for playing and recording audio through Python. \n",
    "#It provides a simple interface to access audio devices and play back or record audio data in real-time"
   ]
  },
  {
   "cell_type": "code",
   "execution_count": 8,
   "id": "b79a8a22",
   "metadata": {},
   "outputs": [
    {
     "name": "stdout",
     "output_type": "stream",
     "text": [
      "Requirement already satisfied: sounddevice in c:\\users\\heet\\anaconda3\\lib\\site-packages (0.4.7)\n",
      "Requirement already satisfied: CFFI>=1.0 in c:\\users\\heet\\anaconda3\\lib\\site-packages (from sounddevice) (1.15.1)\n",
      "Requirement already satisfied: pycparser in c:\\users\\heet\\anaconda3\\lib\\site-packages (from CFFI>=1.0->sounddevice) (2.21)\n",
      "Note: you may need to restart the kernel to use updated packages.\n"
     ]
    }
   ],
   "source": [
    "pip install sounddevice\n"
   ]
  },
  {
   "cell_type": "code",
   "execution_count": null,
   "id": "568c5ac4",
   "metadata": {},
   "outputs": [],
   "source": [
    "#you can use scipy to perform Fourier transforms to analyze \n",
    "#the frequency components of the recorded audio or to filter the audio signal."
   ]
  },
  {
   "cell_type": "code",
   "execution_count": 9,
   "id": "08574272",
   "metadata": {},
   "outputs": [
    {
     "name": "stdout",
     "output_type": "stream",
     "text": [
      "Requirement already satisfied: scipy in c:\\users\\heet\\anaconda3\\lib\\site-packages (1.10.1)\n",
      "Requirement already satisfied: numpy<1.27.0,>=1.19.5 in c:\\users\\heet\\anaconda3\\lib\\site-packages (from scipy) (1.24.3)\n",
      "Note: you may need to restart the kernel to use updated packages.\n"
     ]
    }
   ],
   "source": [
    "pip install scipy"
   ]
  },
  {
   "cell_type": "code",
   "execution_count": 18,
   "id": "7959baa8",
   "metadata": {},
   "outputs": [],
   "source": [
    "#import library\n",
    "import sounddevice "
   ]
  },
  {
   "cell_type": "code",
   "execution_count": 19,
   "id": "017ac3b1",
   "metadata": {},
   "outputs": [],
   "source": [
    "#import libraries\n",
    "from scipy.io.wavfile import write"
   ]
  },
  {
   "cell_type": "code",
   "execution_count": 20,
   "id": "f4515a8e",
   "metadata": {},
   "outputs": [],
   "source": [
    "#define function savefile to save the particular audio file \n",
    "def savefile(sec):\n",
    "    print(\"Say something.....\")\n",
    "    #record function which is use to record sound\n",
    "    rece = sounddevice.rec((sec*44100),samplerate=44100,channels=2) \n",
    "    sounddevice.wait()\n",
    "    #save the recorded file in wav form\n",
    "    write(\"record.wav\",44100,rece)\n",
    "    print(\"timeup!\")"
   ]
  },
  {
   "cell_type": "code",
   "execution_count": 5,
   "id": "df78cb84",
   "metadata": {},
   "outputs": [],
   "source": [
    "#you can set time limit to record your voice and run the savefile function"
   ]
  },
  {
   "cell_type": "code",
   "execution_count": 21,
   "id": "1e546475",
   "metadata": {},
   "outputs": [
    {
     "name": "stdout",
     "output_type": "stream",
     "text": [
      "Say something.....\n",
      "timeup!\n"
     ]
    }
   ],
   "source": [
    "savefile(15)"
   ]
  }
 ],
 "metadata": {
  "kernelspec": {
   "display_name": "Python 3 (ipykernel)",
   "language": "python",
   "name": "python3"
  },
  "language_info": {
   "codemirror_mode": {
    "name": "ipython",
    "version": 3
   },
   "file_extension": ".py",
   "mimetype": "text/x-python",
   "name": "python",
   "nbconvert_exporter": "python",
   "pygments_lexer": "ipython3",
   "version": "3.11.3"
  }
 },
 "nbformat": 4,
 "nbformat_minor": 5
}
